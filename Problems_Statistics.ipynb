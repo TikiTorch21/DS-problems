{
 "cells": [
  {
   "cell_type": "markdown",
   "id": "64f49f58-c540-4ea6-bb23-f204dff9a752",
   "metadata": {},
   "source": [
    "## Do the following for the dataset: netflix_titles.csv (in datasets folder)\n",
    "\n",
    "- Is there any Duplicate Record in this dataset ? If yes, then remove the duplicate records.\n",
    "- Is there any Null Value present in any column ? Show with Heat-map.\n",
    "- 1) For 'House of Cards', what is the Show Id and Who is the Director of this show ?\n",
    "- 2) In which year the highest number of the TV Shows & Movies were released ? Show with Bar Graph.\n",
    "- 3) How many Movies & TV Shows are in the dataset ? Show with Bar Graph.\n",
    "- 4) Show all the Movies that were released in year 2000.\n",
    "- 5) Show only the Titles of all TV Shows that were released in India only.\n",
    "- 6) Show Top 10 Directors, who gave the highest number of TV Shows & Movies to Netflix ?\n",
    "- 7) Show all the Records, where \"Category is Movie and Type is Comedies\" or \"Country is United Kingdom\".\n",
    "- 8) In how many movies/shows, Tom Cruise was cast ?\n",
    "- 9) What are the different Ratings defined by Netflix ?\n",
    "- 10) How many Movies got the 'TV-14' rating, in Canada ?\n",
    "- 11) How many TV Shows got the 'R' rating, after year 2018 ?\n",
    "- 12) What is the maximum duration of a Movie/Show on Netflix ?\n",
    "- 13) Which individual country has the Highest No. of TV Shows ?\n",
    "- 14) How can we sort the dataset by Year ?\n",
    "- 15) Find all the instances where: Category is 'Movie' and Type is 'Dramas' or Category is 'TV Show' & Type is 'Kids' TV'."
   ]
  },
  {
   "cell_type": "code",
   "execution_count": null,
   "id": "8d96323e-afa1-4726-849c-40cce56474b1",
   "metadata": {},
   "outputs": [],
   "source": []
  }
 ],
 "metadata": {
  "kernelspec": {
   "display_name": "Python 3 (ipykernel)",
   "language": "python",
   "name": "python3"
  },
  "language_info": {
   "codemirror_mode": {
    "name": "ipython",
    "version": 3
   },
   "file_extension": ".py",
   "mimetype": "text/x-python",
   "name": "python",
   "nbconvert_exporter": "python",
   "pygments_lexer": "ipython3",
   "version": "3.8.8"
  }
 },
 "nbformat": 4,
 "nbformat_minor": 5
}
