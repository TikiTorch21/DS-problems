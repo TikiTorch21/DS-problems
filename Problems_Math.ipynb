{
 "cells": [
  {
   "cell_type": "markdown",
   "id": "b6249187-268d-4aa6-a95f-78c93766fa99",
   "metadata": {},
   "source": [
    "## Use a Pen and Paper to answer the following and email me the final solution."
   ]
  },
  {
   "cell_type": "markdown",
   "id": "5da4b415-cc95-4e28-8152-c1e016936f07",
   "metadata": {},
   "source": [
    "---"
   ]
  },
  {
   "cell_type": "markdown",
   "id": "21211290-f642-4385-84e6-50c5a30a57a4",
   "metadata": {},
   "source": [
    "## Number Sytems"
   ]
  },
  {
   "cell_type": "markdown",
   "id": "e2d82531-6360-487e-a2f2-3fb8bcf05496",
   "metadata": {},
   "source": [
    "#### Q1) Write the following rational numbers in their lowest terms:\n",
    "<pre>\n",
    "a) -21/49  b) 1048/4096  c) -96/-14\n",
    "</pre>\n",
    "\n",
    "##### Q2) Explain the technique of adding two digit numbers in your own words with the help of two examples.\n",
    "\n",
    "##### Q3) True or False?\n",
    "<pre>\n",
    "a) Every natural number is a rational number but the vice-versa is always false.\n",
    "b) Every whole number and integer is a rational number and vice-versa may sometimes be true.\n",
    "</pre>\n",
    "\n",
    "##### Q4) Why did we have to add integers and rational numbers to our existing system?\n",
    "\n",
    "##### Q5) What type of a number do you get when you divide two whole numbers?"
   ]
  },
  {
   "cell_type": "markdown",
   "id": "a619c250-f048-4c6a-b369-6710e3c1ab83",
   "metadata": {},
   "source": [
    "---"
   ]
  },
  {
   "cell_type": "markdown",
   "id": "39327286-f8c1-4edd-9415-5dcdbb834ab6",
   "metadata": {},
   "source": [
    "## Algebra"
   ]
  },
  {
   "cell_type": "markdown",
   "id": "4480d831-95ce-4283-b255-7f27a0fd3ce0",
   "metadata": {},
   "source": [
    "##### Q1) What is the price of a product if it costs $y and the discount offered is d%?\n",
    "\n",
    "##### Q2) Draw a graph representing: 7t - 9\n",
    "\n",
    "##### Q3) Evaluate the following expressions:\n",
    "\n",
    "<pre>\n",
    "a) xy - 3x + xy  (x=5/2, y=3.2)\n",
    "b) (xy)*(xy) + x^3  (x=y=1.1)\n",
    "c) x - y*x*z (x=1, y=11.5, z=1)\n",
    "</pre>\n",
    "\n",
    "##### Q4) Surface area of a cube is equal to the sum of the area of its 6 sides. Surface area of a cube with side x is given by 6x^2. Prateek has 2 cube shaped containers. One has side 2 and the other side 1.5. Find the total surface area to paint.\n",
    "\n",
    "##### Q5) Write an expression to represent the following:\n",
    "\n",
    "<pre>\n",
    "a) sum of -15 times x added to 12 times y\n",
    "b) product of x and z added to the product of z and x\n",
    "c) divide x and 3y, divide 3y and x; and multiply the two results.\n",
    "</pre>"
   ]
  },
  {
   "cell_type": "markdown",
   "id": "7d555cef-b9cf-4b96-84c2-7c5b56840096",
   "metadata": {},
   "source": [
    "##### Q6) Write in it's simplest forms\n",
    "$\\sqrt{1500}$, $\\sqrt{8785296/9801}$, $\\sqrt{279841}$, $\\sqrt{44100/2}$\n",
    "\n",
    "##### Q7) Fill in the blanks with rational, irrational or none.\n",
    "<pre>\n",
    "a) If a and b are irrational numbers, a/b is ______\n",
    "b) If a and b are rational numbers, a/b is ______\n",
    "</pre>\n",
    "\n",
    "##### Q8) Prove that $\\sqrt{5}$ is irrational.\n",
    "\n",
    "##### Q9) Prove that the sum and product of two rational numbers is always rational.\n",
    "\n",
    "##### Q10) Do we have more rational numbers or more irrational numbers?"
   ]
  },
  {
   "cell_type": "markdown",
   "id": "8f4742a0-e8a4-4a5c-bf9a-c2210802d58f",
   "metadata": {},
   "source": [
    "##### Q11) Why is division by 0 undefined in Mathematics? What's the argument for 0/0?\n",
    "\n",
    "##### Q12) Why do computers use binary? Give one example where the Hexadecimal number system is used.\n",
    "\n",
    "##### Q13) Convert the following numbers from decimal to binary:\n",
    "\n",
    "<pre>\n",
    "a) 77\n",
    "b) 1587\n",
    "c) -200\n",
    "d) 110011\n",
    "</pre>"
   ]
  },
  {
   "cell_type": "markdown",
   "id": "5ed9c134-c088-4b99-8694-e10a72ab18a6",
   "metadata": {
    "tags": []
   },
   "source": [
    "##### Q14) Plot the following lines:\n",
    "\n",
    "<pre>\n",
    "a) -5x + 9y = -18\n",
    "b) y = 5x - 13\n",
    "c) 2x +  5y = -6\n",
    "</pre>\n",
    "\n",
    "\n",
    "##### Q15) Find the x and y intercepts of the following lines:\n",
    "\n",
    "<pre>\n",
    "a) y = x/2 - 3\n",
    "b) -5x + 4y = 20\n",
    "c) 2x + 5y = -6\n",
    "d) 5x - 9 = -8y - 3\n",
    "e) y = 5x - 13\n",
    "f) -5x + 9y = -18\n",
    "</pre>"
   ]
  },
  {
   "cell_type": "markdown",
   "id": "0e7b9969-d634-4922-b1bc-63330c3cb5ab",
   "metadata": {},
   "source": [
    "##### Q16) Write the following equation in the standard form and the slope intercept form: y-b = m(x-a)\n",
    "\n",
    "##### Q17) Compute the point slope equation through\n",
    "<pre>\n",
    "i) (-1, -10) and (5, 2)   Ans: y - 2 = ?\n",
    "ii) (1, -1) and (5, 2)    Ans: y - (-1) = ?\n",
    "iii) (-5, 7) and (-4, 0)\n",
    "</pre>\n",
    "\n",
    "\n",
    "##### Q18) Prateek has a glass tank. First, he wants to put some marbles in it, all of the same volume. Then, he wants to fill the tank with water until it's completely full. This is the formula for the volume of water Prateek should use W as a function of the number of marbles used n:\n",
    "\n",
    "<pre>\n",
    "W(n) = 32 - 0.05*n\n",
    "</pre>\n",
    "\n",
    "i) What is the glass tank's volume?\n",
    "ii) What is the volume of each marble?\n",
    "\n",
    "Assume volume of tank is in litres."
   ]
  },
  {
   "cell_type": "markdown",
   "id": "0c3e40dc-3daa-494b-b362-39dfd2a43960",
   "metadata": {},
   "source": [
    "##### Q19) Visit the following link to solve the system of equations. Use the link in the session tracker to learn more about solving techniques. You can use any method except the graphing method.\n",
    "\n",
    "<a href=\"https://www.lavc.edu/math/library/math113_114_115/Worksheets/linesubst.pdf\">click here!</a>"
   ]
  },
  {
   "cell_type": "markdown",
   "id": "f7970c33-518c-4c72-bc47-6be58088d4c5",
   "metadata": {},
   "source": [
    "##### Q20) Farmer jan is a vegetable farmer who divides his field between broccoli crops and spinach crops. Last year, he grew 6 tons of broccoli per acre and 9 tons of spinach per acre, for a total of 93 tons of vegetables. This year, he grew 2 tons of broccoli per acre and 3 tons of spinach per acre, for a total of 31 tons of vegetables.\n",
    "\n",
    "#### How many acres of broccoli and how many acres of spinach crops does Farmer Jan have?"
   ]
  },
  {
   "cell_type": "markdown",
   "id": "6b6b0b9f-f624-4d01-b81e-f9ec631b4d53",
   "metadata": {
    "tags": []
   },
   "source": [
    "##### Q21) As a birthday gift, Zoey have Prateek an electronic piggy bank that displays the total amount of money in the bank as well as the total number of coins. After depositing some nickels and quarters only, the display read:\n",
    "\n",
    "<pre>\n",
    "Money: $2.00\n",
    "Number of coins = 16\n",
    "</pre>\n",
    "\n",
    "#### How many nickels($0.05) and quarters($0.25) did Zoey put in the bank?"
   ]
  },
  {
   "cell_type": "markdown",
   "id": "657085ab-3303-4933-b739-fd0d651ed069",
   "metadata": {},
   "source": [
    "##### Q22) Graph and find the region that satisfies the following inequalities. The graph should be neat and clear\n",
    "y >= 2x + 1\n",
    "y < 2x - 5\n",
    "x > 1\n",
    "\n",
    "##### Q23) Prateek wants to score at least 6.5 points in a major chess tournament. He scores +1 points for each game that he wins and scors 1/2 points for draw. Write an inequality that represents the number of games Prateek shoulg win(w) and draw(d) to acheive his goal."
   ]
  },
  {
   "cell_type": "markdown",
   "id": "176c8842-b8c4-401e-96f3-738962c64ec8",
   "metadata": {},
   "source": [
    "##### Q24) Subtract 2x + 1 from 8x^2 + 4x - 2\n",
    "\n",
    "##### Q25) Evaluate: (21x^2 + 14x - 2) - (7x^2 + 1)\n",
    "\n",
    "##### Q26) On adding 12t^8 + 6t^4 with 6t^4, we will get 15t^12 a) True b) False"
   ]
  },
  {
   "cell_type": "markdown",
   "id": "c2f56299-45b8-4fe8-aec9-2aa5047b413d",
   "metadata": {},
   "source": [
    "##### Q27) Evaluate the following:\n",
    "\n",
    "<pre>\n",
    "a) (x+y)(y-x)\n",
    "b) (7xyz)*(z^2x^3)\n",
    "c) (8x-z)*(4x^2 + z^3)\n",
    "d) (91x-3y)(91x-3y)\n",
    "</pre>\n",
    "\n",
    "##### Q28) Find the area of a square with sids (2x+3) and (6x-1). Express the area as a function of x and evaluare the area when x=0.5."
   ]
  },
  {
   "cell_type": "markdown",
   "id": "cffee7f0-5ef2-472c-9778-bfff37606edd",
   "metadata": {},
   "source": [
    "##### Q29) The area of a square is 42xy^3. I know the breadth to be 14xy. Could you help me find the length? Also, compute the dimensions when x=y=0.4."
   ]
  },
  {
   "cell_type": "markdown",
   "id": "ec2e4a7a-1b2d-4270-b5e1-b18fc799f3d7",
   "metadata": {},
   "source": [
    "---"
   ]
  },
  {
   "cell_type": "markdown",
   "id": "0e44b237-902b-47f0-8f88-9f68ceeda5b9",
   "metadata": {},
   "source": [
    "## Scalar and Vectors"
   ]
  },
  {
   "cell_type": "markdown",
   "id": "de465d9e-41b4-422d-8122-91baa259f08f",
   "metadata": {
    "tags": []
   },
   "source": [
    "##### Q1) Write three differences between scalars and vectors with examples. Can we break a vector into it's components? If so, how many components can a vector have?\n",
    "\n",
    "##### Q2) Find the magnitutde of the following vectors:\n",
    "\n",
    "<pre>\n",
    "i) vec(a) = (7, 0)\n",
    "ii) vec(a) = (-1, 5/2)\n",
    "iii) vec(a) = (5x, 7x)\n",
    "iv) vec(a) = (x+1, x, x-1)\n",
    "</pre>\n",
    "\n",
    "##### Q3) Find the componenets of the following vectors:\n",
    "\n",
    "<pre>\n",
    "i) vec(p) = (5, 0), vec(q) = (-1, 8)\n",
    "ii) vec(p) = (11, -8), vec(q) = (-11, 8)\n",
    "</pre>\n",
    "\n",
    "##### Q4) Show the following vector operations graphically:\n",
    "\n",
    "<pre>\n",
    "vec(p) = 5i - 7j\n",
    "vec(q) = 7i - 5j\n",
    "\n",
    "i) vec(p) + vec(q)\n",
    "ii) vec(p) - vec(2*q)\n",
    "iii) 7*vec(q)\n",
    "</pre>\n",
    "\n",
    "##### Q5) Consider u = (1/3, sqrt(8)/3). Is u a unit vector? Verify. Find a vector v which is in the same direction as u but has a magnitude of 10.\n",
    "\n",
    "\n",
    "##### Q6) Find a unit vector in the direction of 4i + 2j. (You may use external liks shared)\n",
    "\n",
    "##### Q7) Find a-b where a = (7, 8, 1) and b = 11i - 9j + k"
   ]
  },
  {
   "cell_type": "markdown",
   "id": "9976c68a-8e4e-4d9a-bf20-57ef07a5c89d",
   "metadata": {},
   "source": [
    "---"
   ]
  },
  {
   "cell_type": "markdown",
   "id": "fa1f8adc-0c9e-4b39-aa15-62467f94cf9a",
   "metadata": {},
   "source": [
    "## Matrices"
   ]
  },
  {
   "cell_type": "markdown",
   "id": "d9b022cf-7321-45db-9dce-1f696ab960cc",
   "metadata": {},
   "source": [
    "##### Q1. What is an augmented matrix?\n",
    "\n",
    "##### Q2. For the system of equations, write the augmented matrix.\n",
    "\n",
    "<pre>\n",
    "a. 5y = 7x - 3z\n",
    "    x = 5y + 1\n",
    "  11z = 11y - 12\n",
    "</pre>\n",
    "\n",
    "<pre>\n",
    "b. 15y - 17x - 3z = 11\n",
    "    x = 5y - 1z\n",
    "  11z = 10z - 12\n",
    "</pre>\n",
    "\n",
    "##### Q3. How many rows and columns does a row and column vector has? What is the limit to the number of rows and columns a matrix can have?"
   ]
  },
  {
   "cell_type": "markdown",
   "id": "e1d66b21-2bbd-477e-8551-d74247256cc3",
   "metadata": {
    "tags": []
   },
   "source": [
    "##### Q4. Given the following:\n",
    "\n",
    "<pre>\n",
    "x = [1, 1, 1\n",
    "    10, 10, 10]\n",
    "\n",
    "y = [-1, -7, 1\n",
    "    -10, 0, 8]\n",
    "\n",
    "Find: i) x+y ii) x-2y iii) y-3x\n",
    "\n",
    "</pre>"
   ]
  },
  {
   "cell_type": "markdown",
   "id": "a45d1a55-6d58-4ffc-a5a0-a31974c98333",
   "metadata": {},
   "source": [
    "##### Q5. Write the steps to multiply two matrices. Can we multiply any two matrices?\n",
    "\n",
    "##### Q6. What are the dimensions of the resultant matrix when you multiply two matrices of dimensions m X p and p X n\n",
    "\n",
    "##### Q7. Multiply the following matrices:\n",
    "\n",
    "<pre>\n",
    "i) [1 2 3    and  [3 2 1\n",
    "    4 5 6]         6 5 4\n",
    "                  -5 5 1]\n",
    "    \n",
    "\n",
    "ii) [-1 0    and  [11 -2 1\n",
    "     4 5]         60 0 4]\n",
    "</pre>"
   ]
  },
  {
   "cell_type": "markdown",
   "id": "64ce6a93-d80e-4da1-9a08-5e9ce55f48cc",
   "metadata": {
    "tags": []
   },
   "source": [
    "##### Q8. What do we understand by matrix as transformations ?\n",
    "\n",
    "##### Q9. Proof that matrix multiplication is not commutative but is associative.\n",
    "\n",
    "##### Q10. Find the values of x and y\n",
    "\n",
    "<pre>\n",
    "[3x+7  5         [0  y-2    \n",
    " y+1   2-3x]  =   8   4]\n",
    "</pre>\n",
    "\n",
    "##### Q11) Find k such that A^2 = kA - 2I, \n",
    "<pre>\n",
    "A = [3  -2\n",
    "     4  -2]\n",
    "</pre>"
   ]
  },
  {
   "cell_type": "markdown",
   "id": "15d1b5f9-a5a7-4126-b792-6032ee848e36",
   "metadata": {},
   "source": [
    "---"
   ]
  },
  {
   "cell_type": "markdown",
   "id": "8648b406-2e67-4848-b710-08c41920bf8f",
   "metadata": {},
   "source": [
    "##### Q12) Find x+y+z+w such that:\n",
    "<pre>\n",
    "[x*y  4      = [8   w\n",
    "z+6  x + y]     0   6]\n",
    "</pre>\n",
    "\n",
    "##### Q13) Find the product of the following matrices:\n",
    "<pre>\n",
    "[1 5 7] [8\n",
    "         1\n",
    "         5]\n",
    "</pre>\n",
    "\n",
    "##### Q14) Find the inverse of the following matrix:\n",
    "\n",
    "<pre>\n",
    "[1 -1  2\n",
    " 4  0  6\n",
    " 0  1  -1]\n",
    "</pre>"
   ]
  },
  {
   "cell_type": "markdown",
   "id": "cd2702e6-8f3f-4731-a096-21e022ba0942",
   "metadata": {},
   "source": [
    "---"
   ]
  }
 ],
 "metadata": {
  "kernelspec": {
   "display_name": "Python 3 (ipykernel)",
   "language": "python",
   "name": "python3"
  },
  "language_info": {
   "codemirror_mode": {
    "name": "ipython",
    "version": 3
   },
   "file_extension": ".py",
   "mimetype": "text/x-python",
   "name": "python",
   "nbconvert_exporter": "python",
   "pygments_lexer": "ipython3",
   "version": "3.8.8"
  }
 },
 "nbformat": 4,
 "nbformat_minor": 5
}
